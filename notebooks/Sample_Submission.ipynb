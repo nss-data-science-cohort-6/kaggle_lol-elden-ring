{
 "cells": [
  {
   "attachments": {},
   "cell_type": "markdown",
   "id": "ab18d944",
   "metadata": {},
   "source": [
    "# Kaggle League of Legends competition - Sample Submission\n",
    "\n",
    "## Team: Elden Ring"
   ]
  },
  {
   "attachments": {},
   "cell_type": "markdown",
   "id": "ab2dafba",
   "metadata": {},
   "source": [
    "<img src=\"https://eldenring.wiki.fextralife.com/file/Elden-Ring/mirel_pastor_of_vow.jpg\" alt=\"PRAISE DOG\" style=\"width:806px;height:600px;\"/>\n",
    "\n",
    "#### PRAISE THE DOG!"
   ]
  },
  {
   "cell_type": "code",
   "execution_count": 27,
   "id": "2fddb8a4",
   "metadata": {},
   "outputs": [],
   "source": [
    "import pandas as pd"
   ]
  },
  {
   "cell_type": "code",
   "execution_count": 28,
   "id": "584600ad",
   "metadata": {},
   "outputs": [],
   "source": [
    "X_train = pd.read_csv('../data/participants_train.csv')\n",
    "X_test = pd.read_csv('../data/participants_test.csv')\n",
    "y_train = pd.read_csv('../data/train_winners.csv')\n",
    "submission = pd.read_csv('../data/sample_submission.csv')"
   ]
  },
  {
   "cell_type": "code",
   "execution_count": 29,
   "id": "1f67c082",
   "metadata": {},
   "outputs": [
    {
     "data": {
      "text/html": [
       "<div>\n",
       "<style scoped>\n",
       "    .dataframe tbody tr th:only-of-type {\n",
       "        vertical-align: middle;\n",
       "    }\n",
       "\n",
       "    .dataframe tbody tr th {\n",
       "        vertical-align: top;\n",
       "    }\n",
       "\n",
       "    .dataframe thead th {\n",
       "        text-align: right;\n",
       "    }\n",
       "</style>\n",
       "<table border=\"1\" class=\"dataframe\">\n",
       "  <thead>\n",
       "    <tr style=\"text-align: right;\">\n",
       "      <th></th>\n",
       "      <th>matchId</th>\n",
       "      <th>teamId</th>\n",
       "      <th>participantId</th>\n",
       "      <th>summonerId</th>\n",
       "      <th>summonerLevel</th>\n",
       "      <th>championName</th>\n",
       "      <th>championId</th>\n",
       "    </tr>\n",
       "  </thead>\n",
       "  <tbody>\n",
       "    <tr>\n",
       "      <th>0</th>\n",
       "      <td>0</td>\n",
       "      <td>100</td>\n",
       "      <td>1</td>\n",
       "      <td>0</td>\n",
       "      <td>303</td>\n",
       "      <td>Mordekaiser</td>\n",
       "      <td>82</td>\n",
       "    </tr>\n",
       "    <tr>\n",
       "      <th>1</th>\n",
       "      <td>0</td>\n",
       "      <td>100</td>\n",
       "      <td>2</td>\n",
       "      <td>1</td>\n",
       "      <td>616</td>\n",
       "      <td>Sylas</td>\n",
       "      <td>517</td>\n",
       "    </tr>\n",
       "    <tr>\n",
       "      <th>2</th>\n",
       "      <td>0</td>\n",
       "      <td>100</td>\n",
       "      <td>3</td>\n",
       "      <td>2</td>\n",
       "      <td>667</td>\n",
       "      <td>Lissandra</td>\n",
       "      <td>127</td>\n",
       "    </tr>\n",
       "    <tr>\n",
       "      <th>3</th>\n",
       "      <td>0</td>\n",
       "      <td>100</td>\n",
       "      <td>4</td>\n",
       "      <td>3</td>\n",
       "      <td>860</td>\n",
       "      <td>Caitlyn</td>\n",
       "      <td>51</td>\n",
       "    </tr>\n",
       "    <tr>\n",
       "      <th>4</th>\n",
       "      <td>0</td>\n",
       "      <td>100</td>\n",
       "      <td>5</td>\n",
       "      <td>4</td>\n",
       "      <td>325</td>\n",
       "      <td>Morgana</td>\n",
       "      <td>25</td>\n",
       "    </tr>\n",
       "    <tr>\n",
       "      <th>...</th>\n",
       "      <td>...</td>\n",
       "      <td>...</td>\n",
       "      <td>...</td>\n",
       "      <td>...</td>\n",
       "      <td>...</td>\n",
       "      <td>...</td>\n",
       "      <td>...</td>\n",
       "    </tr>\n",
       "    <tr>\n",
       "      <th>79995</th>\n",
       "      <td>7999</td>\n",
       "      <td>200</td>\n",
       "      <td>6</td>\n",
       "      <td>13979</td>\n",
       "      <td>595</td>\n",
       "      <td>Yorick</td>\n",
       "      <td>83</td>\n",
       "    </tr>\n",
       "    <tr>\n",
       "      <th>79996</th>\n",
       "      <td>7999</td>\n",
       "      <td>200</td>\n",
       "      <td>7</td>\n",
       "      <td>39643</td>\n",
       "      <td>38</td>\n",
       "      <td>Volibear</td>\n",
       "      <td>106</td>\n",
       "    </tr>\n",
       "    <tr>\n",
       "      <th>79997</th>\n",
       "      <td>7999</td>\n",
       "      <td>200</td>\n",
       "      <td>8</td>\n",
       "      <td>5570</td>\n",
       "      <td>498</td>\n",
       "      <td>Anivia</td>\n",
       "      <td>34</td>\n",
       "    </tr>\n",
       "    <tr>\n",
       "      <th>79998</th>\n",
       "      <td>7999</td>\n",
       "      <td>200</td>\n",
       "      <td>9</td>\n",
       "      <td>10228</td>\n",
       "      <td>733</td>\n",
       "      <td>Twitch</td>\n",
       "      <td>29</td>\n",
       "    </tr>\n",
       "    <tr>\n",
       "      <th>79999</th>\n",
       "      <td>7999</td>\n",
       "      <td>200</td>\n",
       "      <td>10</td>\n",
       "      <td>1684</td>\n",
       "      <td>574</td>\n",
       "      <td>Zilean</td>\n",
       "      <td>26</td>\n",
       "    </tr>\n",
       "  </tbody>\n",
       "</table>\n",
       "<p>80000 rows × 7 columns</p>\n",
       "</div>"
      ],
      "text/plain": [
       "       matchId  teamId  participantId  summonerId  summonerLevel championName  \\\n",
       "0            0     100              1           0            303  Mordekaiser   \n",
       "1            0     100              2           1            616        Sylas   \n",
       "2            0     100              3           2            667    Lissandra   \n",
       "3            0     100              4           3            860      Caitlyn   \n",
       "4            0     100              5           4            325      Morgana   \n",
       "...        ...     ...            ...         ...            ...          ...   \n",
       "79995     7999     200              6       13979            595       Yorick   \n",
       "79996     7999     200              7       39643             38     Volibear   \n",
       "79997     7999     200              8        5570            498       Anivia   \n",
       "79998     7999     200              9       10228            733       Twitch   \n",
       "79999     7999     200             10        1684            574       Zilean   \n",
       "\n",
       "       championId  \n",
       "0              82  \n",
       "1             517  \n",
       "2             127  \n",
       "3              51  \n",
       "4              25  \n",
       "...           ...  \n",
       "79995          83  \n",
       "79996         106  \n",
       "79997          34  \n",
       "79998          29  \n",
       "79999          26  \n",
       "\n",
       "[80000 rows x 7 columns]"
      ]
     },
     "execution_count": 29,
     "metadata": {},
     "output_type": "execute_result"
    }
   ],
   "source": [
    "X_train"
   ]
  },
  {
   "cell_type": "markdown",
   "id": "241f74a9",
   "metadata": {},
   "source": [
    "I'll make a really simple model - I'll simply predict the winner based on which team has the highest level summoner."
   ]
  },
  {
   "cell_type": "code",
   "execution_count": 30,
   "id": "44a80f20",
   "metadata": {},
   "outputs": [
    {
     "data": {
      "text/html": [
       "<div>\n",
       "<style scoped>\n",
       "    .dataframe tbody tr th:only-of-type {\n",
       "        vertical-align: middle;\n",
       "    }\n",
       "\n",
       "    .dataframe tbody tr th {\n",
       "        vertical-align: top;\n",
       "    }\n",
       "\n",
       "    .dataframe thead th {\n",
       "        text-align: right;\n",
       "    }\n",
       "</style>\n",
       "<table border=\"1\" class=\"dataframe\">\n",
       "  <thead>\n",
       "    <tr style=\"text-align: right;\">\n",
       "      <th></th>\n",
       "      <th>matchId</th>\n",
       "      <th>teamId</th>\n",
       "    </tr>\n",
       "  </thead>\n",
       "  <tbody>\n",
       "    <tr>\n",
       "      <th>0</th>\n",
       "      <td>0</td>\n",
       "      <td>100</td>\n",
       "    </tr>\n",
       "    <tr>\n",
       "      <th>1</th>\n",
       "      <td>1</td>\n",
       "      <td>100</td>\n",
       "    </tr>\n",
       "    <tr>\n",
       "      <th>2</th>\n",
       "      <td>2</td>\n",
       "      <td>200</td>\n",
       "    </tr>\n",
       "    <tr>\n",
       "      <th>3</th>\n",
       "      <td>3</td>\n",
       "      <td>200</td>\n",
       "    </tr>\n",
       "    <tr>\n",
       "      <th>4</th>\n",
       "      <td>4</td>\n",
       "      <td>100</td>\n",
       "    </tr>\n",
       "    <tr>\n",
       "      <th>...</th>\n",
       "      <td>...</td>\n",
       "      <td>...</td>\n",
       "    </tr>\n",
       "    <tr>\n",
       "      <th>7995</th>\n",
       "      <td>7995</td>\n",
       "      <td>200</td>\n",
       "    </tr>\n",
       "    <tr>\n",
       "      <th>7996</th>\n",
       "      <td>7996</td>\n",
       "      <td>200</td>\n",
       "    </tr>\n",
       "    <tr>\n",
       "      <th>7997</th>\n",
       "      <td>7997</td>\n",
       "      <td>100</td>\n",
       "    </tr>\n",
       "    <tr>\n",
       "      <th>7998</th>\n",
       "      <td>7998</td>\n",
       "      <td>200</td>\n",
       "    </tr>\n",
       "    <tr>\n",
       "      <th>7999</th>\n",
       "      <td>7999</td>\n",
       "      <td>100</td>\n",
       "    </tr>\n",
       "  </tbody>\n",
       "</table>\n",
       "<p>8000 rows × 2 columns</p>\n",
       "</div>"
      ],
      "text/plain": [
       "      matchId  teamId\n",
       "0           0     100\n",
       "1           1     100\n",
       "2           2     200\n",
       "3           3     200\n",
       "4           4     100\n",
       "...       ...     ...\n",
       "7995     7995     200\n",
       "7996     7996     200\n",
       "7997     7997     100\n",
       "7998     7998     200\n",
       "7999     7999     100\n",
       "\n",
       "[8000 rows x 2 columns]"
      ]
     },
     "execution_count": 30,
     "metadata": {},
     "output_type": "execute_result"
    }
   ],
   "source": [
    "train_predictions = ( \n",
    "    X_train\n",
    "    .sort_values(['matchId', 'summonerLevel'], ascending = [True, False])\n",
    "    .drop_duplicates('matchId')\n",
    "    [['matchId', 'teamId']]\n",
    "    .reset_index(drop = True)\n",
    ")\n",
    "\n",
    "train_predictions"
   ]
  },
  {
   "attachments": {},
   "cell_type": "markdown",
   "id": "59937f8c",
   "metadata": {},
   "source": [
    "A quick idea that comes to mind is to instead of taking just a single summoner level, take all 5 in the team and sum them."
   ]
  },
  {
   "cell_type": "code",
   "execution_count": 57,
   "id": "f74dc94a",
   "metadata": {},
   "outputs": [
    {
     "data": {
      "text/html": [
       "<div>\n",
       "<style scoped>\n",
       "    .dataframe tbody tr th:only-of-type {\n",
       "        vertical-align: middle;\n",
       "    }\n",
       "\n",
       "    .dataframe tbody tr th {\n",
       "        vertical-align: top;\n",
       "    }\n",
       "\n",
       "    .dataframe thead th {\n",
       "        text-align: right;\n",
       "    }\n",
       "</style>\n",
       "<table border=\"1\" class=\"dataframe\">\n",
       "  <thead>\n",
       "    <tr style=\"text-align: right;\">\n",
       "      <th></th>\n",
       "      <th>matchId</th>\n",
       "      <th>teamId</th>\n",
       "    </tr>\n",
       "  </thead>\n",
       "  <tbody>\n",
       "    <tr>\n",
       "      <th>0</th>\n",
       "      <td>0</td>\n",
       "      <td>100</td>\n",
       "    </tr>\n",
       "    <tr>\n",
       "      <th>1</th>\n",
       "      <td>1</td>\n",
       "      <td>100</td>\n",
       "    </tr>\n",
       "    <tr>\n",
       "      <th>2</th>\n",
       "      <td>2</td>\n",
       "      <td>100</td>\n",
       "    </tr>\n",
       "    <tr>\n",
       "      <th>3</th>\n",
       "      <td>3</td>\n",
       "      <td>200</td>\n",
       "    </tr>\n",
       "    <tr>\n",
       "      <th>4</th>\n",
       "      <td>4</td>\n",
       "      <td>100</td>\n",
       "    </tr>\n",
       "    <tr>\n",
       "      <th>...</th>\n",
       "      <td>...</td>\n",
       "      <td>...</td>\n",
       "    </tr>\n",
       "    <tr>\n",
       "      <th>7995</th>\n",
       "      <td>7995</td>\n",
       "      <td>100</td>\n",
       "    </tr>\n",
       "    <tr>\n",
       "      <th>7996</th>\n",
       "      <td>7996</td>\n",
       "      <td>200</td>\n",
       "    </tr>\n",
       "    <tr>\n",
       "      <th>7997</th>\n",
       "      <td>7997</td>\n",
       "      <td>100</td>\n",
       "    </tr>\n",
       "    <tr>\n",
       "      <th>7998</th>\n",
       "      <td>7998</td>\n",
       "      <td>200</td>\n",
       "    </tr>\n",
       "    <tr>\n",
       "      <th>7999</th>\n",
       "      <td>7999</td>\n",
       "      <td>100</td>\n",
       "    </tr>\n",
       "  </tbody>\n",
       "</table>\n",
       "<p>8000 rows × 2 columns</p>\n",
       "</div>"
      ],
      "text/plain": [
       "      matchId  teamId\n",
       "0           0     100\n",
       "1           1     100\n",
       "2           2     100\n",
       "3           3     200\n",
       "4           4     100\n",
       "...       ...     ...\n",
       "7995     7995     100\n",
       "7996     7996     200\n",
       "7997     7997     100\n",
       "7998     7998     200\n",
       "7999     7999     100\n",
       "\n",
       "[8000 rows x 2 columns]"
      ]
     },
     "execution_count": 57,
     "metadata": {},
     "output_type": "execute_result"
    }
   ],
   "source": [
    "train_predictions2 =(\n",
    "    X_train\n",
    "    .groupby(['matchId', 'teamId'])[['summonerLevel']].sum()\n",
    "    .reset_index()\n",
    "    .sort_values(['matchId', 'summonerLevel'], ascending=[True, False])\n",
    "    .drop_duplicates('matchId')\n",
    "    [['matchId', 'teamId']]\n",
    "    .reset_index(drop = True)\n",
    ")\n",
    "\n",
    "train_predictions2"
   ]
  },
  {
   "cell_type": "code",
   "execution_count": 31,
   "id": "872a9adf",
   "metadata": {},
   "outputs": [],
   "source": [
    "from sklearn.metrics import accuracy_score"
   ]
  },
  {
   "cell_type": "code",
   "execution_count": 32,
   "id": "50b48e62",
   "metadata": {},
   "outputs": [
    {
     "data": {
      "text/plain": [
       "0.504"
      ]
     },
     "execution_count": 32,
     "metadata": {},
     "output_type": "execute_result"
    }
   ],
   "source": [
    "accuracy_score(\n",
    "    y_true = y_train['winner'],\n",
    "    y_pred = train_predictions['teamId']\n",
    ")"
   ]
  },
  {
   "cell_type": "code",
   "execution_count": 58,
   "id": "d3e6ae76",
   "metadata": {},
   "outputs": [
    {
     "data": {
      "text/plain": [
       "0.497125"
      ]
     },
     "execution_count": 58,
     "metadata": {},
     "output_type": "execute_result"
    }
   ],
   "source": [
    "accuracy_score(\n",
    "    y_true = y_train['winner'],\n",
    "    y_pred = train_predictions2['teamId']\n",
    ")"
   ]
  },
  {
   "attachments": {},
   "cell_type": "markdown",
   "id": "d546b81d",
   "metadata": {},
   "source": [
    "Looks like I do a pretty terrible job with this method. Nevertheless, I'll implement this on the test data.\n",
    "\n",
    "> note: it appears that summing the summoner lvl yields even worse results!"
   ]
  },
  {
   "cell_type": "code",
   "execution_count": 33,
   "id": "193d404f",
   "metadata": {},
   "outputs": [
    {
     "data": {
      "text/plain": [
       "0       100\n",
       "1       100\n",
       "2       200\n",
       "3       200\n",
       "4       200\n",
       "       ... \n",
       "1995    100\n",
       "1996    200\n",
       "1997    200\n",
       "1998    200\n",
       "1999    100\n",
       "Name: teamId, Length: 2000, dtype: int64"
      ]
     },
     "execution_count": 33,
     "metadata": {},
     "output_type": "execute_result"
    }
   ],
   "source": [
    "y_pred = ( \n",
    "    X_test\n",
    "    .sort_values(['matchId', 'summonerLevel'], ascending = [True, False])\n",
    "    .drop_duplicates('matchId')\n",
    "    ['teamId']\n",
    "    .reset_index(drop = True)\n",
    ")\n",
    "\n",
    "y_pred"
   ]
  },
  {
   "cell_type": "markdown",
   "id": "1c98cd55",
   "metadata": {},
   "source": [
    "I'll add these to the sample submission."
   ]
  },
  {
   "cell_type": "code",
   "execution_count": 34,
   "id": "928ebeaf",
   "metadata": {},
   "outputs": [
    {
     "data": {
      "text/html": [
       "<div>\n",
       "<style scoped>\n",
       "    .dataframe tbody tr th:only-of-type {\n",
       "        vertical-align: middle;\n",
       "    }\n",
       "\n",
       "    .dataframe tbody tr th {\n",
       "        vertical-align: top;\n",
       "    }\n",
       "\n",
       "    .dataframe thead th {\n",
       "        text-align: right;\n",
       "    }\n",
       "</style>\n",
       "<table border=\"1\" class=\"dataframe\">\n",
       "  <thead>\n",
       "    <tr style=\"text-align: right;\">\n",
       "      <th></th>\n",
       "      <th>matchId</th>\n",
       "      <th>winner</th>\n",
       "    </tr>\n",
       "  </thead>\n",
       "  <tbody>\n",
       "    <tr>\n",
       "      <th>0</th>\n",
       "      <td>8000</td>\n",
       "      <td>100</td>\n",
       "    </tr>\n",
       "    <tr>\n",
       "      <th>1</th>\n",
       "      <td>8001</td>\n",
       "      <td>100</td>\n",
       "    </tr>\n",
       "    <tr>\n",
       "      <th>2</th>\n",
       "      <td>8002</td>\n",
       "      <td>200</td>\n",
       "    </tr>\n",
       "    <tr>\n",
       "      <th>3</th>\n",
       "      <td>8003</td>\n",
       "      <td>200</td>\n",
       "    </tr>\n",
       "    <tr>\n",
       "      <th>4</th>\n",
       "      <td>8004</td>\n",
       "      <td>200</td>\n",
       "    </tr>\n",
       "  </tbody>\n",
       "</table>\n",
       "</div>"
      ],
      "text/plain": [
       "   matchId  winner\n",
       "0     8000     100\n",
       "1     8001     100\n",
       "2     8002     200\n",
       "3     8003     200\n",
       "4     8004     200"
      ]
     },
     "execution_count": 34,
     "metadata": {},
     "output_type": "execute_result"
    }
   ],
   "source": [
    "submission['winner'] = y_pred\n",
    "submission.head()"
   ]
  },
  {
   "cell_type": "markdown",
   "id": "24c571e3",
   "metadata": {},
   "source": [
    "Now, I'll export the result."
   ]
  },
  {
   "cell_type": "code",
   "execution_count": 11,
   "id": "355c690f",
   "metadata": {},
   "outputs": [],
   "source": [
    "submission.to_csv('../data/first_submission.csv', index = False)"
   ]
  },
  {
   "cell_type": "code",
   "execution_count": null,
   "id": "c9fff146",
   "metadata": {},
   "outputs": [],
   "source": []
  }
 ],
 "metadata": {
  "kernelspec": {
   "display_name": "base",
   "language": "python",
   "name": "python3"
  },
  "language_info": {
   "codemirror_mode": {
    "name": "ipython",
    "version": 3
   },
   "file_extension": ".py",
   "mimetype": "text/x-python",
   "name": "python",
   "nbconvert_exporter": "python",
   "pygments_lexer": "ipython3",
   "version": "3.9.12"
  },
  "vscode": {
   "interpreter": {
    "hash": "8ae6d9166a6324ec8fca68373a3fb6f0a0d010f541edaf8017d36667030d4460"
   }
  }
 },
 "nbformat": 4,
 "nbformat_minor": 5
}
