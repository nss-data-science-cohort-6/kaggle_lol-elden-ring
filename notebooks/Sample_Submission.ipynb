{
 "cells": [
  {
   "cell_type": "code",
   "execution_count": null,
   "id": "2fddb8a4",
   "metadata": {},
   "outputs": [],
   "source": [
    "import pandas as pd"
   ]
  },
  {
   "cell_type": "code",
   "execution_count": null,
   "id": "584600ad",
   "metadata": {},
   "outputs": [],
   "source": [
    "X_train = pd.read_csv('../data/participants_train.csv')\n",
    "X_test = pd.read_csv('../data/participants_test.csv')\n",
    "y_train = pd.read_csv('../data/train_winners.csv')\n",
    "submission = pd.read_csv('../data/sample_submission.csv')"
   ]
  },
  {
   "cell_type": "code",
   "execution_count": null,
   "id": "1f67c082",
   "metadata": {},
   "outputs": [],
   "source": [
    "X_train"
   ]
  },
  {
   "cell_type": "markdown",
   "id": "241f74a9",
   "metadata": {},
   "source": [
    "I'll make a really simple model - I'll simply predict the winner based on which team has the highest level summoner."
   ]
  },
  {
   "cell_type": "code",
   "execution_count": null,
   "id": "44a80f20",
   "metadata": {},
   "outputs": [],
   "source": [
    "train_predictions = ( \n",
    "    X_train\n",
    "    .sort_values(['matchId', 'summonerLevel'], ascending = [True, False])\n",
    "    .drop_duplicates('matchId')\n",
    "    [['matchId', 'teamId']]\n",
    "    .reset_index(drop = True)\n",
    ")\n",
    "\n",
    "train_predictions"
   ]
  },
  {
   "cell_type": "code",
   "execution_count": null,
   "id": "872a9adf",
   "metadata": {},
   "outputs": [],
   "source": [
    "from sklearn.metrics import accuracy_score"
   ]
  },
  {
   "cell_type": "code",
   "execution_count": null,
   "id": "50b48e62",
   "metadata": {},
   "outputs": [],
   "source": [
    "accuracy_score(\n",
    "    y_true = y_train['winner'],\n",
    "    y_pred = train_predictions['teamId']\n",
    ")"
   ]
  },
  {
   "cell_type": "markdown",
   "id": "d546b81d",
   "metadata": {},
   "source": [
    "Looks like I do a pretty terrible job with this method. Nevertheless, I'll implement this on the test data."
   ]
  },
  {
   "cell_type": "code",
   "execution_count": null,
   "id": "193d404f",
   "metadata": {},
   "outputs": [],
   "source": [
    "y_pred = ( \n",
    "    X_test\n",
    "    .sort_values(['matchId', 'summonerLevel'], ascending = [True, False])\n",
    "    .drop_duplicates('matchId')\n",
    "    ['teamId']\n",
    "    .reset_index(drop = True)\n",
    ")\n",
    "\n",
    "y_pred"
   ]
  },
  {
   "cell_type": "markdown",
   "id": "1c98cd55",
   "metadata": {},
   "source": [
    "I'll add these to the sample submission."
   ]
  },
  {
   "cell_type": "code",
   "execution_count": null,
   "id": "928ebeaf",
   "metadata": {},
   "outputs": [],
   "source": [
    "submission['winner'] = y_pred\n",
    "submission.head()"
   ]
  },
  {
   "cell_type": "markdown",
   "id": "24c571e3",
   "metadata": {},
   "source": [
    "Now, I'll export the result."
   ]
  },
  {
   "cell_type": "code",
   "execution_count": null,
   "id": "355c690f",
   "metadata": {},
   "outputs": [],
   "source": [
    "submission.to_csv('../data/first_submission.csv', index = False)"
   ]
  }
 ],
 "metadata": {
  "kernelspec": {
   "display_name": "Python 3 (ipykernel)",
   "language": "python",
   "name": "python3"
  },
  "language_info": {
   "codemirror_mode": {
    "name": "ipython",
    "version": 3
   },
   "file_extension": ".py",
   "mimetype": "text/x-python",
   "name": "python",
   "nbconvert_exporter": "python",
   "pygments_lexer": "ipython3",
   "version": "3.9.13"
  }
 },
 "nbformat": 4,
 "nbformat_minor": 5
}
